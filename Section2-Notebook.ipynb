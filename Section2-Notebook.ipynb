{
 "cells": [
  {
   "cell_type": "markdown",
   "metadata": {},
   "source": [
    "# Section 2 - Coding\n",
    "\n",
    "In this section we will load and manipulate \"unconventional\" data files - for which you will be required to create a simple loading functionality and then be able to process and query a data file.\n",
    "\n",
    "There is a \"section2_data.txt\" file attached to this IPython notebook. The data file contains few rows from a computer vision dataset. Each row corresponds to a frame in a video and contains some metadata and annotations over it.\n",
    "\n",
    "The following notebook will pose some questions about reading and processing this data.\n",
    "\n",
    "Feel free to use any existing python library to answer the questions."
   ]
  },
  {
   "cell_type": "code",
   "execution_count": 2,
   "metadata": {},
   "outputs": [],
   "source": [
    "import pandas as pd\n",
    "import json\n",
    "import re"
   ]
  },
  {
   "cell_type": "code",
   "execution_count": 3,
   "metadata": {
    "scrolled": true
   },
   "outputs": [
    {
     "name": "stdout",
     "output_type": "stream",
     "text": [
      "{\"_i\": 0, \"frame\": \"frame_000.png\", \"video\": \"video000\", \"value\": 39, \"labels\": [\"bird\"]}\r\n",
      "{\"_i\": 1, \"frame\": \"frame_001.png\", \"video\": \"video000\", \"value\": 33, \"labels\": [\"frog\", \"dog\"]}\r\n",
      "{\"_i\": 2, \"frame\": \"frame_002.png\", \"video\": \"video000\", \"value\": 25, \"labels\": [\"panda\", \"panda\"]}\r\n",
      "{\"_i\": 3, \"frame\": \"frame_003.png\", \"video\": \"video000\", \"value\": 28, \"labels\": [\"dog\", \"dog\"]}\r\n",
      "{\"_i\": 4, \"frame\": \"frame_004.png\", \"video\": \"video000\", \"value\": 16, \"labels\": [\"cat\"]}\r\n",
      "{\"_i\": 5, \"frame\": \"frame_005.png\", \"video\": \"video000\", \"value\": 32, \"labels\": [\"bird\", \"frog\", \"bird\"]}\r\n",
      "{\"_i\": 6, \"frame\": \"frame_006.png\", \"video\": \"video000\", \"value\": 35, \"labels\": [\"bird\", \"dog\"]}\r\n",
      "{\"_i\": 7, \"frame\": \"frame_000.png\", \"video\": \"video001\", \"value\": 25, \"labels\": [\"dog\", \"bird\"]}\r\n",
      "{\"_i\": 8, \"frame\": \"frame_001.png\", \"video\": \"video001\", \"value\": 16, \"labels\": [\"dog\", \"panda\", \"bird\"]}\r\n",
      "{\"_i\": 9, \"frame\": \"frame_002.png\", \"video\": \"video001\", \"value\": 23, \"labels\": [\"panda\"]}\r\n"
     ]
    }
   ],
   "source": [
    "!head section2_data.txt"
   ]
  },
  {
   "cell_type": "code",
   "execution_count": 5,
   "metadata": {},
   "outputs": [
    {
     "name": "stdout",
     "output_type": "stream",
     "text": [
      "{'_i': '0', 'frame': 'frame_000.png', 'video': 'video000', 'value': '39', 'labels': '[\"bird\"]'}\n",
      "Something unexpected occurred!\n"
     ]
    }
   ],
   "source": [
    "def parse(d):\n",
    "    dictionary = dict()\n",
    "    # Removes curly braces and splits the pairs into a list\n",
    "    pairs = d.strip('{}').split(', ')\n",
    "    for i in pairs:\n",
    "        pair = i.split(': ')\n",
    "        # Other symbols from the key-value pair should be stripped.\n",
    "        dictionary[pair[0].strip('\\'\\'\\\"\\\"')] = pair[1].strip('\\'\\'\\\"\\\"')\n",
    "    return dictionary\n",
    "try:\n",
    "    geeky_file = open('section2_data.txt', 'rt')\n",
    "    lines = geeky_file.read().split('\\n')\n",
    "    for l in lines:\n",
    "        if l != '':\n",
    "            dictionary = parse(l)\n",
    "            print(dictionary)\n",
    "    geeky_file.close()\n",
    "except:\n",
    "    print(\"Something unexpected occurred!\")"
   ]
  },
  {
   "cell_type": "code",
   "execution_count": 6,
   "metadata": {
    "scrolled": false
   },
   "outputs": [],
   "source": [
    "d = {}\n",
    "line = lines[0].strip('{}').split(',')\n",
    "for l in line:\n",
    "    key, val = l.replace('\"', '').strip().split(':')\n",
    "    if(key == 'labels'): \n",
    "        break\n",
    "#     print(l.replace('\"', '').strip().split(':'))\n",
    "    d[key] = [val]\n",
    "    \n",
    "for i in range (1, 51):\n",
    "    line = lines[i].strip('{}').split(',')\n",
    "    for l in line:\n",
    "        key = l.replace('\"', '').strip().split(':')[0]\n",
    "        if(key == 'labels'): \n",
    "            break\n",
    "        val = l.replace('\"', '').strip().split(':')[1]\n",
    "        d[key].append(val)\n",
    "#     print(i)"
   ]
  },
  {
   "cell_type": "code",
   "execution_count": 7,
   "metadata": {
    "scrolled": true
   },
   "outputs": [
    {
     "name": "stdout",
     "output_type": "stream",
     "text": [
      "['[\"bird\"]', '[\"frog\", \"dog\"]', '[\"panda\", \"panda\"]', '[\"dog\", \"dog\"]', '[\"cat\"]', '[\"bird\", \"frog\", \"bird\"]', '[\"bird\", \"dog\"]', '[\"dog\", \"bird\"]', '[\"dog\", \"panda\", \"bird\"]', '[\"panda\"]', '[\"bird\", \"cat\", \"bird\"]', '[\"frog\", \"cat\", \"cat\"]', '[\"frog\", \"cat\", \"dog\"]', '[\"dog\", \"panda\"]', '[\"dog\", \"bird\"]', '[\"frog\"]', '[\"frog\"]', '[\"dog\", \"frog\", \"panda\"]', '[\"bird\", \"panda\", \"panda\"]', '[\"frog\", \"frog\", \"frog\"]', '[\"dog\", \"dog\", \"bird\"]', '[\"cat\", \"dog\", \"bird\"]', '[\"bird\"]', '[\"bird\", \"dog\", \"dog\"]', '[\"cat\", \"dog\", \"dog\"]', '[\"panda\"]', '[\"cat\", \"cat\", \"panda\"]', '[\"cat\", \"cat\", \"dog\"]', '[\"frog\"]', '[\"frog\", \"bird\"]', '[\"panda\", \"panda\", \"bird\"]', '[\"dog\", \"dog\", \"frog\"]', '[\"frog\", \"bird\"]', '[\"bird\", \"cat\"]', '[\"panda\"]', '[\"panda\"]', '[\"bird\"]', '[\"dog\", \"panda\", \"cat\"]', '[\"frog\"]', '[\"dog\", \"panda\"]', '[\"frog\"]', '[\"frog\", \"dog\", \"cat\"]', '[\"panda\", \"bird\", \"cat\"]', '[\"panda\", \"cat\", \"bird\"]', '[\"dog\"]', '[\"panda\"]', '[\"bird\", \"bird\"]', '[\"bird\"]', '[\"panda\"]', '[\"frog\"]', '[\"dog\"]']\n"
     ]
    }
   ],
   "source": [
    "labels = []\n",
    "for line in lines:\n",
    "    la = re.search('\\[.*\\]', line)\n",
    "    labels.append(la.group())\n",
    "#     print(la.group())\n",
    "print(labels)"
   ]
  },
  {
   "cell_type": "code",
   "execution_count": 19,
   "metadata": {},
   "outputs": [
    {
     "data": {
      "text/html": [
       "<div>\n",
       "<style scoped>\n",
       "    .dataframe tbody tr th:only-of-type {\n",
       "        vertical-align: middle;\n",
       "    }\n",
       "\n",
       "    .dataframe tbody tr th {\n",
       "        vertical-align: top;\n",
       "    }\n",
       "\n",
       "    .dataframe thead th {\n",
       "        text-align: right;\n",
       "    }\n",
       "</style>\n",
       "<table border=\"1\" class=\"dataframe\">\n",
       "  <thead>\n",
       "    <tr style=\"text-align: right;\">\n",
       "      <th></th>\n",
       "      <th>_i</th>\n",
       "      <th>frame</th>\n",
       "      <th>video</th>\n",
       "      <th>value</th>\n",
       "      <th>labels</th>\n",
       "    </tr>\n",
       "  </thead>\n",
       "  <tbody>\n",
       "    <tr>\n",
       "      <th>0</th>\n",
       "      <td>0</td>\n",
       "      <td>frame_000.png</td>\n",
       "      <td>video000</td>\n",
       "      <td>39</td>\n",
       "      <td>[\"bird\"]</td>\n",
       "    </tr>\n",
       "    <tr>\n",
       "      <th>1</th>\n",
       "      <td>1</td>\n",
       "      <td>frame_001.png</td>\n",
       "      <td>video000</td>\n",
       "      <td>33</td>\n",
       "      <td>[\"frog\", \"dog\"]</td>\n",
       "    </tr>\n",
       "    <tr>\n",
       "      <th>2</th>\n",
       "      <td>2</td>\n",
       "      <td>frame_002.png</td>\n",
       "      <td>video000</td>\n",
       "      <td>25</td>\n",
       "      <td>[\"panda\", \"panda\"]</td>\n",
       "    </tr>\n",
       "    <tr>\n",
       "      <th>3</th>\n",
       "      <td>3</td>\n",
       "      <td>frame_003.png</td>\n",
       "      <td>video000</td>\n",
       "      <td>28</td>\n",
       "      <td>[\"dog\", \"dog\"]</td>\n",
       "    </tr>\n",
       "    <tr>\n",
       "      <th>4</th>\n",
       "      <td>4</td>\n",
       "      <td>frame_004.png</td>\n",
       "      <td>video000</td>\n",
       "      <td>16</td>\n",
       "      <td>[\"cat\"]</td>\n",
       "    </tr>\n",
       "  </tbody>\n",
       "</table>\n",
       "</div>"
      ],
      "text/plain": [
       "   _i           frame      video value              labels\n",
       "0   0   frame_000.png   video000    39            [\"bird\"]\n",
       "1   1   frame_001.png   video000    33     [\"frog\", \"dog\"]\n",
       "2   2   frame_002.png   video000    25  [\"panda\", \"panda\"]\n",
       "3   3   frame_003.png   video000    28      [\"dog\", \"dog\"]\n",
       "4   4   frame_004.png   video000    16             [\"cat\"]"
      ]
     },
     "execution_count": 19,
     "metadata": {},
     "output_type": "execute_result"
    }
   ],
   "source": [
    "df = pd.DataFrame(d)\n",
    "df['labels'] = labels\n",
    "df.head()"
   ]
  },
  {
   "cell_type": "markdown",
   "metadata": {},
   "source": [
    "## Section 1 - Design a data loader\n",
    "\n",
    "Design a data structure, that give a file path `\"section2_data.txt\"`, it will read and parse the contents of the file above.\n",
    "\n",
    "#### Q1 - Design the data structure with the following properties:\n",
    "- The data structure is either callable or indexable. It will accepts a single parameter, as integer, and return the parsed contents of the row corresponding to the given index.\n",
    "- The data structure needs to return the number of rows in the file (and in memory) when called with the python command `len(my_data_struct)`\n"
   ]
  },
  {
   "cell_type": "markdown",
   "metadata": {},
   "source": [
    "#### Q2 - Prove that you can initialize the reader and then calculate its length `len(reader)` and print the 26th and 43rd elements of the dataset."
   ]
  },
  {
   "cell_type": "code",
   "execution_count": 22,
   "metadata": {},
   "outputs": [
    {
     "data": {
      "text/plain": [
       "51"
      ]
     },
     "execution_count": 22,
     "metadata": {},
     "output_type": "execute_result"
    }
   ],
   "source": [
    "## YOUR SOLUTION\n",
    "len(df)"
   ]
  },
  {
   "cell_type": "markdown",
   "metadata": {},
   "source": [
    "## Section 2 - Process the data\n",
    "\n",
    "#### Q1 - Write an algorithm that will generate a dictionary with key/value pairs, where the keys are the name of each unique video in the dataset and the value is the number of frames of that video."
   ]
  },
  {
   "cell_type": "code",
   "execution_count": 23,
   "metadata": {},
   "outputs": [],
   "source": [
    "### YOUT SOLUTION\n",
    "def video_frame_count(ds):\n",
    "    videos = pd.unique(ds['video'])\n",
    "    vfc = {vid: [] for vid in videos}\n",
    "    for i in range(len(ds)):\n",
    "        vfc[df['video'][i]].append(df['value'][i])\n",
    "#         print(i)\n",
    "    return vfc"
   ]
  },
  {
   "cell_type": "code",
   "execution_count": 24,
   "metadata": {},
   "outputs": [],
   "source": [
    "k = {}\n",
    "k[df['video'][0]] = df['value'][0] "
   ]
  },
  {
   "cell_type": "code",
   "execution_count": 25,
   "metadata": {
    "scrolled": true
   },
   "outputs": [
    {
     "data": {
      "text/plain": [
       "{' video000': [' 39', ' 33', ' 25', ' 28', ' 16', ' 32', ' 35'],\n",
       " ' video001': [' 25',\n",
       "  ' 16',\n",
       "  ' 23',\n",
       "  ' 3',\n",
       "  ' 8',\n",
       "  ' 2',\n",
       "  ' 0',\n",
       "  ' 26',\n",
       "  ' 38',\n",
       "  ' 34'],\n",
       " ' video002': [' 40', ' 35', ' 23', ' 37', ' 14'],\n",
       " ' video003': [' 28',\n",
       "  ' 26',\n",
       "  ' 2',\n",
       "  ' 24',\n",
       "  ' 24',\n",
       "  ' 5',\n",
       "  ' 33',\n",
       "  ' 26',\n",
       "  ' 41',\n",
       "  ' 35',\n",
       "  ' 39',\n",
       "  ' 6',\n",
       "  ' 23',\n",
       "  ' 5',\n",
       "  ' 4',\n",
       "  ' 40',\n",
       "  ' 20',\n",
       "  ' 21'],\n",
       " ' video004': [' 17',\n",
       "  ' 26',\n",
       "  ' 32',\n",
       "  ' 31',\n",
       "  ' 21',\n",
       "  ' 5',\n",
       "  ' 29',\n",
       "  ' 41',\n",
       "  ' 33',\n",
       "  ' 14',\n",
       "  ' 2']}"
      ]
     },
     "execution_count": 25,
     "metadata": {},
     "output_type": "execute_result"
    }
   ],
   "source": [
    "video_frame_count(df)"
   ]
  },
  {
   "cell_type": "code",
   "execution_count": 26,
   "metadata": {
    "scrolled": true
   },
   "outputs": [
    {
     "data": {
      "text/plain": [
       "' 33'"
      ]
     },
     "execution_count": 26,
     "metadata": {},
     "output_type": "execute_result"
    }
   ],
   "source": [
    "df['value'][1]"
   ]
  },
  {
   "cell_type": "markdown",
   "metadata": {},
   "source": [
    "#### Q2 - Write an algorithm that will generate a dictionary with key/value pairs, where the keys are the name of each unique video in the dataset and the value is the sum of the `value` field of all the frames containing a `dog`."
   ]
  },
  {
   "cell_type": "code",
   "execution_count": null,
   "metadata": {},
   "outputs": [],
   "source": [
    "### YOUR SOLUTION\n",
    "def video_value_sum_with_dog(my_data_struct):\n",
    "            "
   ]
  },
  {
   "cell_type": "markdown",
   "metadata": {},
   "source": [
    "#### Q3 - Last, create an algorithm that returns a dictionary with the count of each of the animal types in the dataset, excluding occurrences in `video003` and rows where the `value` is odd."
   ]
  },
  {
   "cell_type": "code",
   "execution_count": null,
   "metadata": {},
   "outputs": [],
   "source": [
    "### YOUR SOLUTION\n",
    "def animal_count(my_data_struct):\n",
    "   "
   ]
  }
 ],
 "metadata": {
  "interpreter": {
   "hash": "569d6b7e9215e11aba41c6454007e5c1b78bad7df09dab765d8cf00362c40f03"
  },
  "kernelspec": {
   "display_name": "Python 3",
   "language": "python",
   "name": "python3"
  },
  "language_info": {
   "codemirror_mode": {
    "name": "ipython",
    "version": 3
   },
   "file_extension": ".py",
   "mimetype": "text/x-python",
   "name": "python",
   "nbconvert_exporter": "python",
   "pygments_lexer": "ipython3",
   "version": "3.7.3"
  },
  "toc": {
   "base_numbering": 1,
   "nav_menu": {},
   "number_sections": true,
   "sideBar": true,
   "skip_h1_title": false,
   "title_cell": "Table of Contents",
   "title_sidebar": "Contents",
   "toc_cell": false,
   "toc_position": {},
   "toc_section_display": true,
   "toc_window_display": false
  },
  "varInspector": {
   "cols": {
    "lenName": 16,
    "lenType": 16,
    "lenVar": 40
   },
   "kernels_config": {
    "python": {
     "delete_cmd_postfix": "",
     "delete_cmd_prefix": "del ",
     "library": "var_list.py",
     "varRefreshCmd": "print(var_dic_list())"
    },
    "r": {
     "delete_cmd_postfix": ") ",
     "delete_cmd_prefix": "rm(",
     "library": "var_list.r",
     "varRefreshCmd": "cat(var_dic_list()) "
    }
   },
   "types_to_exclude": [
    "module",
    "function",
    "builtin_function_or_method",
    "instance",
    "_Feature"
   ],
   "window_display": false
  }
 },
 "nbformat": 4,
 "nbformat_minor": 2
}
